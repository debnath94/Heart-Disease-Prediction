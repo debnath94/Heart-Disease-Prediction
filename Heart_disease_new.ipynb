{
 "cells": [
  {
   "cell_type": "code",
   "execution_count": 1,
   "id": "1a52f9ef",
   "metadata": {},
   "outputs": [],
   "source": [
    "import pandas as pd\n",
    "import numpy as np\n",
    "import seaborn as sns\n",
    "import matplotlib. pylab as plt\n",
    "import warnings"
   ]
  },
  {
   "cell_type": "code",
   "execution_count": 2,
   "id": "f8dc551a",
   "metadata": {},
   "outputs": [],
   "source": [
    "df = pd. read_csv(\"E:\\LiveProject\\Abdul_jawed\\Productionization-Of-ML-Models-main\\heart.csv\")"
   ]
  },
  {
   "cell_type": "code",
   "execution_count": 3,
   "id": "2b732c79",
   "metadata": {},
   "outputs": [
    {
     "data": {
      "text/html": [
       "<div>\n",
       "<style scoped>\n",
       "    .dataframe tbody tr th:only-of-type {\n",
       "        vertical-align: middle;\n",
       "    }\n",
       "\n",
       "    .dataframe tbody tr th {\n",
       "        vertical-align: top;\n",
       "    }\n",
       "\n",
       "    .dataframe thead th {\n",
       "        text-align: right;\n",
       "    }\n",
       "</style>\n",
       "<table border=\"1\" class=\"dataframe\">\n",
       "  <thead>\n",
       "    <tr style=\"text-align: right;\">\n",
       "      <th></th>\n",
       "      <th>Age</th>\n",
       "      <th>Sex</th>\n",
       "      <th>Chest_Pain_Level</th>\n",
       "      <th>Resting_Blood_Pressure</th>\n",
       "      <th>Cholestrol</th>\n",
       "      <th>Fasting_Blood_Sugar</th>\n",
       "      <th>Resting_ECG</th>\n",
       "      <th>Max_Heart_Rate</th>\n",
       "      <th>Exercise_Induced_Angina</th>\n",
       "      <th>Depression</th>\n",
       "      <th>SlopeC</th>\n",
       "      <th>Major_Vessels</th>\n",
       "      <th>Thalassemia_Level</th>\n",
       "      <th>Heart_Disease</th>\n",
       "      <th>Age_Group</th>\n",
       "    </tr>\n",
       "  </thead>\n",
       "  <tbody>\n",
       "    <tr>\n",
       "      <th>0</th>\n",
       "      <td>63</td>\n",
       "      <td>Male</td>\n",
       "      <td>Stable</td>\n",
       "      <td>145</td>\n",
       "      <td>233</td>\n",
       "      <td>1</td>\n",
       "      <td>2</td>\n",
       "      <td>150</td>\n",
       "      <td>No</td>\n",
       "      <td>2.3</td>\n",
       "      <td>Downsloping</td>\n",
       "      <td>0</td>\n",
       "      <td>Fixed Defect</td>\n",
       "      <td>Absense</td>\n",
       "      <td>Super Senior Citizens</td>\n",
       "    </tr>\n",
       "    <tr>\n",
       "      <th>1</th>\n",
       "      <td>67</td>\n",
       "      <td>Male</td>\n",
       "      <td>Variant</td>\n",
       "      <td>160</td>\n",
       "      <td>286</td>\n",
       "      <td>0</td>\n",
       "      <td>2</td>\n",
       "      <td>108</td>\n",
       "      <td>Yes</td>\n",
       "      <td>1.5</td>\n",
       "      <td>Flat</td>\n",
       "      <td>3</td>\n",
       "      <td>Normal</td>\n",
       "      <td>Presence</td>\n",
       "      <td>Super Senior Citizens</td>\n",
       "    </tr>\n",
       "    <tr>\n",
       "      <th>2</th>\n",
       "      <td>67</td>\n",
       "      <td>Male</td>\n",
       "      <td>Variant</td>\n",
       "      <td>120</td>\n",
       "      <td>229</td>\n",
       "      <td>0</td>\n",
       "      <td>2</td>\n",
       "      <td>129</td>\n",
       "      <td>Yes</td>\n",
       "      <td>2.6</td>\n",
       "      <td>Flat</td>\n",
       "      <td>2</td>\n",
       "      <td>Reversable Defect</td>\n",
       "      <td>Presence</td>\n",
       "      <td>Super Senior Citizens</td>\n",
       "    </tr>\n",
       "    <tr>\n",
       "      <th>3</th>\n",
       "      <td>37</td>\n",
       "      <td>Male</td>\n",
       "      <td>Microvascular</td>\n",
       "      <td>130</td>\n",
       "      <td>250</td>\n",
       "      <td>0</td>\n",
       "      <td>0</td>\n",
       "      <td>187</td>\n",
       "      <td>No</td>\n",
       "      <td>3.5</td>\n",
       "      <td>Downsloping</td>\n",
       "      <td>0</td>\n",
       "      <td>Normal</td>\n",
       "      <td>Absense</td>\n",
       "      <td>Senior Citizens</td>\n",
       "    </tr>\n",
       "    <tr>\n",
       "      <th>4</th>\n",
       "      <td>41</td>\n",
       "      <td>Female</td>\n",
       "      <td>Unstable</td>\n",
       "      <td>130</td>\n",
       "      <td>204</td>\n",
       "      <td>0</td>\n",
       "      <td>2</td>\n",
       "      <td>172</td>\n",
       "      <td>No</td>\n",
       "      <td>1.4</td>\n",
       "      <td>Upsloping</td>\n",
       "      <td>0</td>\n",
       "      <td>Normal</td>\n",
       "      <td>Absense</td>\n",
       "      <td>Senior Citizens</td>\n",
       "    </tr>\n",
       "  </tbody>\n",
       "</table>\n",
       "</div>"
      ],
      "text/plain": [
       "   Age     Sex Chest_Pain_Level  Resting_Blood_Pressure  Cholestrol  \\\n",
       "0   63    Male           Stable                     145         233   \n",
       "1   67    Male          Variant                     160         286   \n",
       "2   67    Male          Variant                     120         229   \n",
       "3   37    Male    Microvascular                     130         250   \n",
       "4   41  Female         Unstable                     130         204   \n",
       "\n",
       "   Fasting_Blood_Sugar  Resting_ECG  Max_Heart_Rate Exercise_Induced_Angina  \\\n",
       "0                    1            2             150                      No   \n",
       "1                    0            2             108                     Yes   \n",
       "2                    0            2             129                     Yes   \n",
       "3                    0            0             187                      No   \n",
       "4                    0            2             172                      No   \n",
       "\n",
       "   Depression       SlopeC  Major_Vessels  Thalassemia_Level Heart_Disease  \\\n",
       "0         2.3  Downsloping              0       Fixed Defect       Absense   \n",
       "1         1.5         Flat              3             Normal      Presence   \n",
       "2         2.6         Flat              2  Reversable Defect      Presence   \n",
       "3         3.5  Downsloping              0             Normal       Absense   \n",
       "4         1.4    Upsloping              0             Normal       Absense   \n",
       "\n",
       "               Age_Group  \n",
       "0  Super Senior Citizens  \n",
       "1  Super Senior Citizens  \n",
       "2  Super Senior Citizens  \n",
       "3        Senior Citizens  \n",
       "4        Senior Citizens  "
      ]
     },
     "execution_count": 3,
     "metadata": {},
     "output_type": "execute_result"
    }
   ],
   "source": [
    "df. head()"
   ]
  },
  {
   "cell_type": "code",
   "execution_count": 4,
   "id": "fc802243",
   "metadata": {},
   "outputs": [
    {
     "data": {
      "text/plain": [
       "0"
      ]
     },
     "execution_count": 4,
     "metadata": {},
     "output_type": "execute_result"
    }
   ],
   "source": [
    "df. duplicated(). sum()"
   ]
  },
  {
   "cell_type": "code",
   "execution_count": 7,
   "id": "44624350",
   "metadata": {},
   "outputs": [
    {
     "data": {
      "text/plain": [
       "Age                        0\n",
       "Sex                        0\n",
       "Chest_Pain_Level           0\n",
       "Resting_Blood_Pressure     0\n",
       "Cholestrol                 0\n",
       "Fasting_Blood_Sugar        0\n",
       "Resting_ECG                0\n",
       "Max_Heart_Rate             0\n",
       "Exercise_Induced_Angina    0\n",
       "Depression                 0\n",
       "SlopeC                     0\n",
       "Major_Vessels              0\n",
       "Thalassemia_Level          0\n",
       "Heart_Disease              0\n",
       "Age_Group                  0\n",
       "dtype: int64"
      ]
     },
     "execution_count": 7,
     "metadata": {},
     "output_type": "execute_result"
    }
   ],
   "source": [
    "df. isna(). sum()"
   ]
  },
  {
   "cell_type": "code",
   "execution_count": 10,
   "id": "3a7f17fa",
   "metadata": {},
   "outputs": [
    {
     "data": {
      "text/plain": [
       "<AxesSubplot: title={'center': 'Age Distribution'}, ylabel='Density'>"
      ]
     },
     "execution_count": 10,
     "metadata": {},
     "output_type": "execute_result"
    },
    {
     "data": {
      "image/png": "[encoded data removed]",
      "text/plain": [
       "<Figure size 600x600 with 1 Axes>"
      ]
     },
     "metadata": {},
     "output_type": "display_data"
    }
   ],
   "source": [
    "# checking the distribution of age columns\n",
    "df. Age. plot(kind = 'kde',figsize = (6,6),legend = True, title = 'Age Distribution')"
   ]
  },
  {
   "cell_type": "code",
   "execution_count": 11,
   "id": "5a398615",
   "metadata": {},
   "outputs": [
    {
     "data": {
      "text/plain": [
       "Age                                       77\n",
       "Sex                                     Male\n",
       "Chest_Pain_Level                     Variant\n",
       "Resting_Blood_Pressure                   200\n",
       "Cholestrol                               564\n",
       "Fasting_Blood_Sugar                        1\n",
       "Resting_ECG                                2\n",
       "Max_Heart_Rate                           202\n",
       "Exercise_Induced_Angina                  Yes\n",
       "Depression                               6.2\n",
       "SlopeC                             Upsloping\n",
       "Major_Vessels                              3\n",
       "Thalassemia_Level          Reversable Defect\n",
       "Heart_Disease                       Presence\n",
       "Age_Group                          Youngster\n",
       "dtype: object"
      ]
     },
     "execution_count": 11,
     "metadata": {},
     "output_type": "execute_result"
    }
   ],
   "source": [
    "df. max()"
   ]
  },
  {
   "cell_type": "code",
   "execution_count": 12,
   "id": "4b25ab7e",
   "metadata": {},
   "outputs": [
    {
     "data": {
      "text/plain": [
       "Age                                     29\n",
       "Sex                                 Female\n",
       "Chest_Pain_Level             Microvascular\n",
       "Resting_Blood_Pressure                  94\n",
       "Cholestrol                             126\n",
       "Fasting_Blood_Sugar                      0\n",
       "Resting_ECG                              0\n",
       "Max_Heart_Rate                          71\n",
       "Exercise_Induced_Angina                 No\n",
       "Depression                             0.0\n",
       "SlopeC                         Downsloping\n",
       "Major_Vessels                            0\n",
       "Thalassemia_Level             Fixed Defect\n",
       "Heart_Disease                      Absense\n",
       "Age_Group                  Senior Citizens\n",
       "dtype: object"
      ]
     },
     "execution_count": 12,
     "metadata": {},
     "output_type": "execute_result"
    }
   ],
   "source": [
    "df. min()"
   ]
  },
  {
   "cell_type": "code",
   "execution_count": 13,
   "id": "7fe69328",
   "metadata": {},
   "outputs": [
    {
     "name": "stderr",
     "output_type": "stream",
     "text": [
      "C:\\Users\\debna\\AppData\\Local\\Temp\\ipykernel_19952\\1165822174.py:1: FutureWarning: Dropping of nuisance columns in DataFrame reductions (with 'numeric_only=None') is deprecated; in a future version this will raise TypeError.  Select only valid columns before calling the reduction.\n",
      "  df. mean()\n"
     ]
    },
    {
     "data": {
      "text/plain": [
       "Age                        54.542088\n",
       "Resting_Blood_Pressure    131.693603\n",
       "Cholestrol                247.350168\n",
       "Fasting_Blood_Sugar         0.144781\n",
       "Resting_ECG                 0.996633\n",
       "Max_Heart_Rate            149.599327\n",
       "Depression                  1.055556\n",
       "Major_Vessels               0.676768\n",
       "dtype: float64"
      ]
     },
     "execution_count": 13,
     "metadata": {},
     "output_type": "execute_result"
    }
   ],
   "source": [
    "df. mean()"
   ]
  },
  {
   "cell_type": "code",
   "execution_count": 14,
   "id": "a8cc3550",
   "metadata": {},
   "outputs": [
    {
     "data": {
      "text/html": [
       "<div>\n",
       "<style scoped>\n",
       "    .dataframe tbody tr th:only-of-type {\n",
       "        vertical-align: middle;\n",
       "    }\n",
       "\n",
       "    .dataframe tbody tr th {\n",
       "        vertical-align: top;\n",
       "    }\n",
       "\n",
       "    .dataframe thead th {\n",
       "        text-align: right;\n",
       "    }\n",
       "</style>\n",
       "<table border=\"1\" class=\"dataframe\">\n",
       "  <thead>\n",
       "    <tr style=\"text-align: right;\">\n",
       "      <th></th>\n",
       "      <th>Age</th>\n",
       "      <th>Sex</th>\n",
       "      <th>Chest_Pain_Level</th>\n",
       "      <th>Resting_Blood_Pressure</th>\n",
       "      <th>Cholestrol</th>\n",
       "      <th>Fasting_Blood_Sugar</th>\n",
       "      <th>Resting_ECG</th>\n",
       "      <th>Max_Heart_Rate</th>\n",
       "      <th>Exercise_Induced_Angina</th>\n",
       "      <th>Depression</th>\n",
       "      <th>SlopeC</th>\n",
       "      <th>Major_Vessels</th>\n",
       "      <th>Thalassemia_Level</th>\n",
       "      <th>Heart_Disease</th>\n",
       "      <th>Age_Group</th>\n",
       "    </tr>\n",
       "  </thead>\n",
       "  <tbody>\n",
       "    <tr>\n",
       "      <th>0</th>\n",
       "      <td>58.0</td>\n",
       "      <td>Male</td>\n",
       "      <td>Variant</td>\n",
       "      <td>120.0</td>\n",
       "      <td>197</td>\n",
       "      <td>0.0</td>\n",
       "      <td>0.0</td>\n",
       "      <td>162.0</td>\n",
       "      <td>No</td>\n",
       "      <td>0.0</td>\n",
       "      <td>Upsloping</td>\n",
       "      <td>0.0</td>\n",
       "      <td>Normal</td>\n",
       "      <td>Absense</td>\n",
       "      <td>Senior Citizens</td>\n",
       "    </tr>\n",
       "    <tr>\n",
       "      <th>1</th>\n",
       "      <td>NaN</td>\n",
       "      <td>NaN</td>\n",
       "      <td>NaN</td>\n",
       "      <td>NaN</td>\n",
       "      <td>234</td>\n",
       "      <td>NaN</td>\n",
       "      <td>NaN</td>\n",
       "      <td>NaN</td>\n",
       "      <td>NaN</td>\n",
       "      <td>NaN</td>\n",
       "      <td>NaN</td>\n",
       "      <td>NaN</td>\n",
       "      <td>NaN</td>\n",
       "      <td>NaN</td>\n",
       "      <td>NaN</td>\n",
       "    </tr>\n",
       "  </tbody>\n",
       "</table>\n",
       "</div>"
      ],
      "text/plain": [
       "    Age   Sex Chest_Pain_Level  Resting_Blood_Pressure  Cholestrol  \\\n",
       "0  58.0  Male          Variant                   120.0         197   \n",
       "1   NaN   NaN              NaN                     NaN         234   \n",
       "\n",
       "   Fasting_Blood_Sugar  Resting_ECG  Max_Heart_Rate Exercise_Induced_Angina  \\\n",
       "0                  0.0          0.0           162.0                      No   \n",
       "1                  NaN          NaN             NaN                     NaN   \n",
       "\n",
       "   Depression     SlopeC  Major_Vessels Thalassemia_Level Heart_Disease  \\\n",
       "0         0.0  Upsloping            0.0            Normal       Absense   \n",
       "1         NaN        NaN            NaN               NaN           NaN   \n",
       "\n",
       "         Age_Group  \n",
       "0  Senior Citizens  \n",
       "1              NaN  "
      ]
     },
     "execution_count": 14,
     "metadata": {},
     "output_type": "execute_result"
    }
   ],
   "source": [
    "df. mode()"
   ]
  },
  {
   "cell_type": "code",
   "execution_count": 15,
   "id": "143a4cff",
   "metadata": {},
   "outputs": [
    {
     "name": "stdout",
     "output_type": "stream",
     "text": [
      "<class 'pandas.core.frame.DataFrame'>\n",
      "RangeIndex: 297 entries, 0 to 296\n",
      "Data columns (total 15 columns):\n",
      " #   Column                   Non-Null Count  Dtype  \n",
      "---  ------                   --------------  -----  \n",
      " 0   Age                      297 non-null    int64  \n",
      " 1   Sex                      297 non-null    object \n",
      " 2   Chest_Pain_Level         297 non-null    object \n",
      " 3   Resting_Blood_Pressure   297 non-null    int64  \n",
      " 4   Cholestrol               297 non-null    int64  \n",
      " 5   Fasting_Blood_Sugar      297 non-null    int64  \n",
      " 6   Resting_ECG              297 non-null    int64  \n",
      " 7   Max_Heart_Rate           297 non-null    int64  \n",
      " 8   Exercise_Induced_Angina  297 non-null    object \n",
      " 9   Depression               297 non-null    float64\n",
      " 10  SlopeC                   297 non-null    object \n",
      " 11  Major_Vessels            297 non-null    int64  \n",
      " 12  Thalassemia_Level        297 non-null    object \n",
      " 13  Heart_Disease            297 non-null    object \n",
      " 14  Age_Group                297 non-null    object \n",
      "dtypes: float64(1), int64(7), object(7)\n",
      "memory usage: 34.9+ KB\n"
     ]
    }
   ],
   "source": [
    "df. info()"
   ]
  },
  {
   "cell_type": "code",
   "execution_count": 20,
   "id": "97560afa",
   "metadata": {},
   "outputs": [
    {
     "data": {
      "text/plain": [
       "Male      201\n",
       "Female     96\n",
       "Name: Sex, dtype: int64"
      ]
     },
     "execution_count": 20,
     "metadata": {},
     "output_type": "execute_result"
    }
   ],
   "source": [
    "df. Sex. value_counts()"
   ]
  },
  {
   "cell_type": "code",
   "execution_count": 21,
   "id": "69e7b045",
   "metadata": {},
   "outputs": [
    {
     "data": {
      "text/plain": [
       "<AxesSubplot: xlabel='Sex', ylabel='count'>"
      ]
     },
     "execution_count": 21,
     "metadata": {},
     "output_type": "execute_result"
    },
    {
     "data": {
      "image/png": "[encoded data removed]",
      "text/plain": [
       "<Figure size 640x480 with 1 Axes>"
      ]
     },
     "metadata": {},
     "output_type": "display_data"
    }
   ],
   "source": [
    "sns. countplot(x = df[\"Sex\"])"
   ]
  },
  {
   "cell_type": "code",
   "execution_count": 22,
   "id": "55998a0f",
   "metadata": {},
   "outputs": [
    {
     "data": {
      "text/plain": [
       "Variant          142\n",
       "Microvascular     83\n",
       "Unstable          49\n",
       "Stable            23\n",
       "Name: Chest_Pain_Level, dtype: int64"
      ]
     },
     "execution_count": 22,
     "metadata": {},
     "output_type": "execute_result"
    }
   ],
   "source": [
    "df. Chest_Pain_Level. value_counts()"
   ]
  },
  {
   "cell_type": "code",
   "execution_count": 23,
   "id": "1ee89ef5",
   "metadata": {},
   "outputs": [
    {
     "data": {
      "text/plain": [
       "<AxesSubplot: xlabel='Chest_Pain_Level', ylabel='count'>"
      ]
     },
     "execution_count": 23,
     "metadata": {},
     "output_type": "execute_result"
    },
    {
     "data": {
      "image/png": "[encoded data removed]",
      "text/plain": [
       "<Figure size 640x480 with 1 Axes>"
      ]
     },
     "metadata": {},
     "output_type": "display_data"
    }
   ],
   "source": [
    "sns. countplot(x = df[\"Chest_Pain_Level\"])"
   ]
  },
  {
   "cell_type": "code",
   "execution_count": 24,
   "id": "1260ecb2",
   "metadata": {},
   "outputs": [
    {
     "data": {
      "text/plain": [
       "0    254\n",
       "1     43\n",
       "Name: Fasting_Blood_Sugar, dtype: int64"
      ]
     },
     "execution_count": 24,
     "metadata": {},
     "output_type": "execute_result"
    }
   ],
   "source": [
    "df. Fasting_Blood_Sugar. value_counts()"
   ]
  },
  {
   "cell_type": "code",
   "execution_count": 25,
   "id": "c799d74f",
   "metadata": {},
   "outputs": [
    {
     "data": {
      "text/plain": [
       "<AxesSubplot: xlabel='Fasting_Blood_Sugar', ylabel='count'>"
      ]
     },
     "execution_count": 25,
     "metadata": {},
     "output_type": "execute_result"
    },
    {
     "data": {
      "image/png": "[encoded data removed]",
      "text/plain": [
       "<Figure size 640x480 with 1 Axes>"
      ]
     },
     "metadata": {},
     "output_type": "display_data"
    }
   ],
   "source": [
    "sns. countplot(x = df[\"Fasting_Blood_Sugar\"])"
   ]
  },
  {
   "cell_type": "code",
   "execution_count": 27,
   "id": "864bf586",
   "metadata": {},
   "outputs": [
    {
     "data": {
      "text/plain": [
       "array(['No', 'Yes'], dtype=object)"
      ]
     },
     "execution_count": 27,
     "metadata": {},
     "output_type": "execute_result"
    }
   ],
   "source": [
    "df. Exercise_Induced_Angina. unique()"
   ]
  },
  {
   "cell_type": "code",
   "execution_count": 26,
   "id": "f99b80ee",
   "metadata": {},
   "outputs": [
    {
     "data": {
      "text/plain": [
       "No     200\n",
       "Yes     97\n",
       "Name: Exercise_Induced_Angina, dtype: int64"
      ]
     },
     "execution_count": 26,
     "metadata": {},
     "output_type": "execute_result"
    }
   ],
   "source": [
    "df. Exercise_Induced_Angina. value_counts()"
   ]
  },
  {
   "cell_type": "code",
   "execution_count": 28,
   "id": "267606c7",
   "metadata": {},
   "outputs": [
    {
     "data": {
      "text/plain": [
       "array(['Downsloping', 'Flat', 'Upsloping'], dtype=object)"
      ]
     },
     "execution_count": 28,
     "metadata": {},
     "output_type": "execute_result"
    }
   ],
   "source": [
    "df. SlopeC. unique()"
   ]
  },
  {
   "cell_type": "code",
   "execution_count": 29,
   "id": "233f4b09",
   "metadata": {},
   "outputs": [
    {
     "data": {
      "text/plain": [
       "Upsloping      139\n",
       "Flat           137\n",
       "Downsloping     21\n",
       "Name: SlopeC, dtype: int64"
      ]
     },
     "execution_count": 29,
     "metadata": {},
     "output_type": "execute_result"
    }
   ],
   "source": [
    "df. SlopeC. value_counts()"
   ]
  },
  {
   "cell_type": "code",
   "execution_count": 106,
   "id": "e0567613",
   "metadata": {},
   "outputs": [
    {
     "data": {
      "text/plain": [
       "0    147\n",
       "2    146\n",
       "1      4\n",
       "Name: Resting_ECG, dtype: int64"
      ]
     },
     "execution_count": 106,
     "metadata": {},
     "output_type": "execute_result"
    }
   ],
   "source": [
    "df. Resting_ECG. value_counts()"
   ]
  },
  {
   "cell_type": "code",
   "execution_count": 30,
   "id": "f42f3bf5",
   "metadata": {},
   "outputs": [
    {
     "data": {
      "text/plain": [
       "array(['Fixed Defect', 'Normal', 'Reversable Defect'], dtype=object)"
      ]
     },
     "execution_count": 30,
     "metadata": {},
     "output_type": "execute_result"
    }
   ],
   "source": [
    "df. Thalassemia_Level. unique()"
   ]
  },
  {
   "cell_type": "code",
   "execution_count": 31,
   "id": "140bfaa8",
   "metadata": {},
   "outputs": [
    {
     "data": {
      "text/plain": [
       "Normal               164\n",
       "Reversable Defect    115\n",
       "Fixed Defect          18\n",
       "Name: Thalassemia_Level, dtype: int64"
      ]
     },
     "execution_count": 31,
     "metadata": {},
     "output_type": "execute_result"
    }
   ],
   "source": [
    "df. Thalassemia_Level. value_counts()"
   ]
  },
  {
   "cell_type": "code",
   "execution_count": 32,
   "id": "c8f3e079",
   "metadata": {},
   "outputs": [
    {
     "data": {
      "text/plain": [
       "<AxesSubplot: xlabel='Thalassemia_Level', ylabel='count'>"
      ]
     },
     "execution_count": 32,
     "metadata": {},
     "output_type": "execute_result"
    },
    {
     "data": {
      "image/png": "[encoded data removed]",
      "text/plain": [
       "<Figure size 640x480 with 1 Axes>"
      ]
     },
     "metadata": {},
     "output_type": "display_data"
    }
   ],
   "source": [
    "sns. countplot(x = df[\"Thalassemia_Level\"])"
   ]
  },
  {
   "cell_type": "code",
   "execution_count": 33,
   "id": "e8e43e1b",
   "metadata": {},
   "outputs": [
    {
     "data": {
      "text/plain": [
       "array(['Super Senior Citizens', 'Senior Citizens', 'Youngster'],\n",
       "      dtype=object)"
      ]
     },
     "execution_count": 33,
     "metadata": {},
     "output_type": "execute_result"
    }
   ],
   "source": [
    "df. Age_Group. unique()"
   ]
  },
  {
   "cell_type": "code",
   "execution_count": 34,
   "id": "1ea53d01",
   "metadata": {},
   "outputs": [
    {
     "data": {
      "text/plain": [
       "Senior Citizens          203\n",
       "Super Senior Citizens     91\n",
       "Youngster                  3\n",
       "Name: Age_Group, dtype: int64"
      ]
     },
     "execution_count": 34,
     "metadata": {},
     "output_type": "execute_result"
    }
   ],
   "source": [
    "df. Age_Group. value_counts()"
   ]
  },
  {
   "cell_type": "code",
   "execution_count": 35,
   "id": "77b6b3a7",
   "metadata": {},
   "outputs": [
    {
     "data": {
      "text/plain": [
       "<AxesSubplot: xlabel='Age_Group', ylabel='count'>"
      ]
     },
     "execution_count": 35,
     "metadata": {},
     "output_type": "execute_result"
    },
    {
     "data": {
      "image/png": "[encoded data removed]",
      "text/plain": [
       "<Figure size 640x480 with 1 Axes>"
      ]
     },
     "metadata": {},
     "output_type": "display_data"
    }
   ],
   "source": [
    "sns. countplot(x = df[\"Age_Group\"])"
   ]
  },
  {
   "cell_type": "code",
   "execution_count": 36,
   "id": "14ca2861",
   "metadata": {},
   "outputs": [
    {
     "data": {
      "text/plain": [
       "Absense     0.538721\n",
       "Presence    0.461279\n",
       "Name: Heart_Disease, dtype: float64"
      ]
     },
     "execution_count": 36,
     "metadata": {},
     "output_type": "execute_result"
    }
   ],
   "source": [
    "df.Heart_Disease. value_counts(normalize = True)"
   ]
  },
  {
   "cell_type": "code",
   "execution_count": 37,
   "id": "4a78e1f8",
   "metadata": {},
   "outputs": [
    {
     "data": {
      "text/plain": [
       "<AxesSubplot: xlabel='Heart_Disease', ylabel='count'>"
      ]
     },
     "execution_count": 37,
     "metadata": {},
     "output_type": "execute_result"
    },
    {
     "data": {
      "image/png": "[encoded data removed]",
      "text/plain": [
       "<Figure size 640x480 with 1 Axes>"
      ]
     },
     "metadata": {},
     "output_type": "display_data"
    }
   ],
   "source": [
    "sns. countplot(x = df[\"Heart_Disease\"])"
   ]
  },
  {
   "cell_type": "code",
   "execution_count": 5,
   "id": "9332c43e",
   "metadata": {},
   "outputs": [],
   "source": [
    "#converting categoricag to numeric \n",
    "from sklearn. preprocessing import LabelEncoder\n",
    "lb = LabelEncoder()"
   ]
  },
  {
   "cell_type": "code",
   "execution_count": 6,
   "id": "5d3d64c0",
   "metadata": {},
   "outputs": [
    {
     "data": {
      "text/html": [
       "<div>\n",
       "<style scoped>\n",
       "    .dataframe tbody tr th:only-of-type {\n",
       "        vertical-align: middle;\n",
       "    }\n",
       "\n",
       "    .dataframe tbody tr th {\n",
       "        vertical-align: top;\n",
       "    }\n",
       "\n",
       "    .dataframe thead th {\n",
       "        text-align: right;\n",
       "    }\n",
       "</style>\n",
       "<table border=\"1\" class=\"dataframe\">\n",
       "  <thead>\n",
       "    <tr style=\"text-align: right;\">\n",
       "      <th></th>\n",
       "      <th>Age</th>\n",
       "      <th>Sex</th>\n",
       "      <th>Chest_Pain_Level</th>\n",
       "      <th>Resting_Blood_Pressure</th>\n",
       "      <th>Cholestrol</th>\n",
       "      <th>Fasting_Blood_Sugar</th>\n",
       "      <th>Resting_ECG</th>\n",
       "      <th>Max_Heart_Rate</th>\n",
       "      <th>Exercise_Induced_Angina</th>\n",
       "      <th>Depression</th>\n",
       "      <th>SlopeC</th>\n",
       "      <th>Major_Vessels</th>\n",
       "      <th>Thalassemia_Level</th>\n",
       "      <th>Heart_Disease</th>\n",
       "      <th>Age_Group</th>\n",
       "    </tr>\n",
       "  </thead>\n",
       "  <tbody>\n",
       "    <tr>\n",
       "      <th>0</th>\n",
       "      <td>63</td>\n",
       "      <td>Male</td>\n",
       "      <td>Stable</td>\n",
       "      <td>145</td>\n",
       "      <td>233</td>\n",
       "      <td>1</td>\n",
       "      <td>2</td>\n",
       "      <td>150</td>\n",
       "      <td>No</td>\n",
       "      <td>2.3</td>\n",
       "      <td>Downsloping</td>\n",
       "      <td>0</td>\n",
       "      <td>Fixed Defect</td>\n",
       "      <td>Absense</td>\n",
       "      <td>Super Senior Citizens</td>\n",
       "    </tr>\n",
       "    <tr>\n",
       "      <th>1</th>\n",
       "      <td>67</td>\n",
       "      <td>Male</td>\n",
       "      <td>Variant</td>\n",
       "      <td>160</td>\n",
       "      <td>286</td>\n",
       "      <td>0</td>\n",
       "      <td>2</td>\n",
       "      <td>108</td>\n",
       "      <td>Yes</td>\n",
       "      <td>1.5</td>\n",
       "      <td>Flat</td>\n",
       "      <td>3</td>\n",
       "      <td>Normal</td>\n",
       "      <td>Presence</td>\n",
       "      <td>Super Senior Citizens</td>\n",
       "    </tr>\n",
       "    <tr>\n",
       "      <th>2</th>\n",
       "      <td>67</td>\n",
       "      <td>Male</td>\n",
       "      <td>Variant</td>\n",
       "      <td>120</td>\n",
       "      <td>229</td>\n",
       "      <td>0</td>\n",
       "      <td>2</td>\n",
       "      <td>129</td>\n",
       "      <td>Yes</td>\n",
       "      <td>2.6</td>\n",
       "      <td>Flat</td>\n",
       "      <td>2</td>\n",
       "      <td>Reversable Defect</td>\n",
       "      <td>Presence</td>\n",
       "      <td>Super Senior Citizens</td>\n",
       "    </tr>\n",
       "    <tr>\n",
       "      <th>3</th>\n",
       "      <td>37</td>\n",
       "      <td>Male</td>\n",
       "      <td>Microvascular</td>\n",
       "      <td>130</td>\n",
       "      <td>250</td>\n",
       "      <td>0</td>\n",
       "      <td>0</td>\n",
       "      <td>187</td>\n",
       "      <td>No</td>\n",
       "      <td>3.5</td>\n",
       "      <td>Downsloping</td>\n",
       "      <td>0</td>\n",
       "      <td>Normal</td>\n",
       "      <td>Absense</td>\n",
       "      <td>Senior Citizens</td>\n",
       "    </tr>\n",
       "    <tr>\n",
       "      <th>4</th>\n",
       "      <td>41</td>\n",
       "      <td>Female</td>\n",
       "      <td>Unstable</td>\n",
       "      <td>130</td>\n",
       "      <td>204</td>\n",
       "      <td>0</td>\n",
       "      <td>2</td>\n",
       "      <td>172</td>\n",
       "      <td>No</td>\n",
       "      <td>1.4</td>\n",
       "      <td>Upsloping</td>\n",
       "      <td>0</td>\n",
       "      <td>Normal</td>\n",
       "      <td>Absense</td>\n",
       "      <td>Senior Citizens</td>\n",
       "    </tr>\n",
       "    <tr>\n",
       "      <th>5</th>\n",
       "      <td>56</td>\n",
       "      <td>Male</td>\n",
       "      <td>Unstable</td>\n",
       "      <td>120</td>\n",
       "      <td>236</td>\n",
       "      <td>0</td>\n",
       "      <td>0</td>\n",
       "      <td>178</td>\n",
       "      <td>No</td>\n",
       "      <td>0.8</td>\n",
       "      <td>Upsloping</td>\n",
       "      <td>0</td>\n",
       "      <td>Normal</td>\n",
       "      <td>Absense</td>\n",
       "      <td>Senior Citizens</td>\n",
       "    </tr>\n",
       "    <tr>\n",
       "      <th>6</th>\n",
       "      <td>62</td>\n",
       "      <td>Female</td>\n",
       "      <td>Variant</td>\n",
       "      <td>140</td>\n",
       "      <td>268</td>\n",
       "      <td>0</td>\n",
       "      <td>2</td>\n",
       "      <td>160</td>\n",
       "      <td>No</td>\n",
       "      <td>3.6</td>\n",
       "      <td>Downsloping</td>\n",
       "      <td>2</td>\n",
       "      <td>Normal</td>\n",
       "      <td>Presence</td>\n",
       "      <td>Super Senior Citizens</td>\n",
       "    </tr>\n",
       "    <tr>\n",
       "      <th>7</th>\n",
       "      <td>57</td>\n",
       "      <td>Female</td>\n",
       "      <td>Variant</td>\n",
       "      <td>120</td>\n",
       "      <td>354</td>\n",
       "      <td>0</td>\n",
       "      <td>0</td>\n",
       "      <td>163</td>\n",
       "      <td>Yes</td>\n",
       "      <td>0.6</td>\n",
       "      <td>Upsloping</td>\n",
       "      <td>0</td>\n",
       "      <td>Normal</td>\n",
       "      <td>Absense</td>\n",
       "      <td>Senior Citizens</td>\n",
       "    </tr>\n",
       "    <tr>\n",
       "      <th>8</th>\n",
       "      <td>63</td>\n",
       "      <td>Male</td>\n",
       "      <td>Variant</td>\n",
       "      <td>130</td>\n",
       "      <td>254</td>\n",
       "      <td>0</td>\n",
       "      <td>2</td>\n",
       "      <td>147</td>\n",
       "      <td>No</td>\n",
       "      <td>1.4</td>\n",
       "      <td>Flat</td>\n",
       "      <td>1</td>\n",
       "      <td>Reversable Defect</td>\n",
       "      <td>Presence</td>\n",
       "      <td>Super Senior Citizens</td>\n",
       "    </tr>\n",
       "    <tr>\n",
       "      <th>9</th>\n",
       "      <td>53</td>\n",
       "      <td>Male</td>\n",
       "      <td>Variant</td>\n",
       "      <td>140</td>\n",
       "      <td>203</td>\n",
       "      <td>1</td>\n",
       "      <td>2</td>\n",
       "      <td>155</td>\n",
       "      <td>Yes</td>\n",
       "      <td>3.1</td>\n",
       "      <td>Downsloping</td>\n",
       "      <td>0</td>\n",
       "      <td>Reversable Defect</td>\n",
       "      <td>Presence</td>\n",
       "      <td>Senior Citizens</td>\n",
       "    </tr>\n",
       "  </tbody>\n",
       "</table>\n",
       "</div>"
      ],
      "text/plain": [
       "   Age     Sex Chest_Pain_Level  Resting_Blood_Pressure  Cholestrol  \\\n",
       "0   63    Male           Stable                     145         233   \n",
       "1   67    Male          Variant                     160         286   \n",
       "2   67    Male          Variant                     120         229   \n",
       "3   37    Male    Microvascular                     130         250   \n",
       "4   41  Female         Unstable                     130         204   \n",
       "5   56    Male         Unstable                     120         236   \n",
       "6   62  Female          Variant                     140         268   \n",
       "7   57  Female          Variant                     120         354   \n",
       "8   63    Male          Variant                     130         254   \n",
       "9   53    Male          Variant                     140         203   \n",
       "\n",
       "   Fasting_Blood_Sugar  Resting_ECG  Max_Heart_Rate Exercise_Induced_Angina  \\\n",
       "0                    1            2             150                      No   \n",
       "1                    0            2             108                     Yes   \n",
       "2                    0            2             129                     Yes   \n",
       "3                    0            0             187                      No   \n",
       "4                    0            2             172                      No   \n",
       "5                    0            0             178                      No   \n",
       "6                    0            2             160                      No   \n",
       "7                    0            0             163                     Yes   \n",
       "8                    0            2             147                      No   \n",
       "9                    1            2             155                     Yes   \n",
       "\n",
       "   Depression       SlopeC  Major_Vessels  Thalassemia_Level Heart_Disease  \\\n",
       "0         2.3  Downsloping              0       Fixed Defect       Absense   \n",
       "1         1.5         Flat              3             Normal      Presence   \n",
       "2         2.6         Flat              2  Reversable Defect      Presence   \n",
       "3         3.5  Downsloping              0             Normal       Absense   \n",
       "4         1.4    Upsloping              0             Normal       Absense   \n",
       "5         0.8    Upsloping              0             Normal       Absense   \n",
       "6         3.6  Downsloping              2             Normal      Presence   \n",
       "7         0.6    Upsloping              0             Normal       Absense   \n",
       "8         1.4         Flat              1  Reversable Defect      Presence   \n",
       "9         3.1  Downsloping              0  Reversable Defect      Presence   \n",
       "\n",
       "               Age_Group  \n",
       "0  Super Senior Citizens  \n",
       "1  Super Senior Citizens  \n",
       "2  Super Senior Citizens  \n",
       "3        Senior Citizens  \n",
       "4        Senior Citizens  \n",
       "5        Senior Citizens  \n",
       "6  Super Senior Citizens  \n",
       "7        Senior Citizens  \n",
       "8  Super Senior Citizens  \n",
       "9        Senior Citizens  "
      ]
     },
     "execution_count": 6,
     "metadata": {},
     "output_type": "execute_result"
    }
   ],
   "source": [
    "df. head(10)"
   ]
  },
  {
   "cell_type": "code",
   "execution_count": 7,
   "id": "bdc6407d",
   "metadata": {},
   "outputs": [
    {
     "name": "stdout",
     "output_type": "stream",
     "text": [
      "<class 'pandas.core.frame.DataFrame'>\n",
      "RangeIndex: 297 entries, 0 to 296\n",
      "Data columns (total 15 columns):\n",
      " #   Column                   Non-Null Count  Dtype  \n",
      "---  ------                   --------------  -----  \n",
      " 0   Age                      297 non-null    int64  \n",
      " 1   Sex                      297 non-null    object \n",
      " 2   Chest_Pain_Level         297 non-null    object \n",
      " 3   Resting_Blood_Pressure   297 non-null    int64  \n",
      " 4   Cholestrol               297 non-null    int64  \n",
      " 5   Fasting_Blood_Sugar      297 non-null    int64  \n",
      " 6   Resting_ECG              297 non-null    int64  \n",
      " 7   Max_Heart_Rate           297 non-null    int64  \n",
      " 8   Exercise_Induced_Angina  297 non-null    object \n",
      " 9   Depression               297 non-null    float64\n",
      " 10  SlopeC                   297 non-null    object \n",
      " 11  Major_Vessels            297 non-null    int64  \n",
      " 12  Thalassemia_Level        297 non-null    object \n",
      " 13  Heart_Disease            297 non-null    object \n",
      " 14  Age_Group                297 non-null    object \n",
      "dtypes: float64(1), int64(7), object(7)\n",
      "memory usage: 34.9+ KB\n"
     ]
    }
   ],
   "source": [
    "df. info()"
   ]
  },
  {
   "cell_type": "code",
   "execution_count": 8,
   "id": "8a6a1738",
   "metadata": {},
   "outputs": [],
   "source": [
    "df[\"Sex\"] = lb. fit_transform(df[\"Sex\"])\n",
    "df[\"Chest_Pain_Level\"] = lb. fit_transform(df[\"Chest_Pain_Level\"])\n",
    "df[\"Exercise_Induced_Angina\"] = lb. fit_transform(df[\"Exercise_Induced_Angina\"])\n",
    "df[\"SlopeC\"] = lb. fit_transform(df[\"SlopeC\"])\n",
    "df[\"Thalassemia_Level\"] = lb. fit_transform(df[\"Thalassemia_Level\"])\n",
    "df[\"Age_Group\"] = lb. fit_transform(df[\"Age_Group\"])"
   ]
  },
  {
   "cell_type": "code",
   "execution_count": 9,
   "id": "ef53adab",
   "metadata": {},
   "outputs": [
    {
     "name": "stdout",
     "output_type": "stream",
     "text": [
      "<class 'pandas.core.frame.DataFrame'>\n",
      "RangeIndex: 297 entries, 0 to 296\n",
      "Data columns (total 15 columns):\n",
      " #   Column                   Non-Null Count  Dtype  \n",
      "---  ------                   --------------  -----  \n",
      " 0   Age                      297 non-null    int64  \n",
      " 1   Sex                      297 non-null    int32  \n",
      " 2   Chest_Pain_Level         297 non-null    int32  \n",
      " 3   Resting_Blood_Pressure   297 non-null    int64  \n",
      " 4   Cholestrol               297 non-null    int64  \n",
      " 5   Fasting_Blood_Sugar      297 non-null    int64  \n",
      " 6   Resting_ECG              297 non-null    int64  \n",
      " 7   Max_Heart_Rate           297 non-null    int64  \n",
      " 8   Exercise_Induced_Angina  297 non-null    int32  \n",
      " 9   Depression               297 non-null    float64\n",
      " 10  SlopeC                   297 non-null    int32  \n",
      " 11  Major_Vessels            297 non-null    int64  \n",
      " 12  Thalassemia_Level        297 non-null    int32  \n",
      " 13  Heart_Disease            297 non-null    object \n",
      " 14  Age_Group                297 non-null    int32  \n",
      "dtypes: float64(1), int32(6), int64(7), object(1)\n",
      "memory usage: 28.0+ KB\n"
     ]
    }
   ],
   "source": [
    "df. info()"
   ]
  },
  {
   "cell_type": "code",
   "execution_count": 107,
   "id": "145d34f7",
   "metadata": {},
   "outputs": [
    {
     "data": {
      "text/plain": [
       "Index(['Age', 'Sex', 'Chest_Pain_Level', 'Resting_Blood_Pressure',\n",
       "       'Cholestrol', 'Fasting_Blood_Sugar', 'Resting_ECG', 'Max_Heart_Rate',\n",
       "       'Exercise_Induced_Angina', 'Depression', 'SlopeC', 'Major_Vessels',\n",
       "       'Thalassemia_Level', 'Heart_Disease', 'Age_Group'],\n",
       "      dtype='object')"
      ]
     },
     "execution_count": 107,
     "metadata": {},
     "output_type": "execute_result"
    }
   ],
   "source": [
    "df. columns"
   ]
  },
  {
   "cell_type": "code",
   "execution_count": 10,
   "id": "e20eb66b",
   "metadata": {},
   "outputs": [
    {
     "data": {
      "text/html": [
       "<div>\n",
       "<style scoped>\n",
       "    .dataframe tbody tr th:only-of-type {\n",
       "        vertical-align: middle;\n",
       "    }\n",
       "\n",
       "    .dataframe tbody tr th {\n",
       "        vertical-align: top;\n",
       "    }\n",
       "\n",
       "    .dataframe thead th {\n",
       "        text-align: right;\n",
       "    }\n",
       "</style>\n",
       "<table border=\"1\" class=\"dataframe\">\n",
       "  <thead>\n",
       "    <tr style=\"text-align: right;\">\n",
       "      <th></th>\n",
       "      <th>Age</th>\n",
       "      <th>Sex</th>\n",
       "      <th>Chest_Pain_Level</th>\n",
       "      <th>Resting_Blood_Pressure</th>\n",
       "      <th>Cholestrol</th>\n",
       "      <th>Fasting_Blood_Sugar</th>\n",
       "      <th>Resting_ECG</th>\n",
       "      <th>Max_Heart_Rate</th>\n",
       "      <th>Exercise_Induced_Angina</th>\n",
       "      <th>Depression</th>\n",
       "      <th>SlopeC</th>\n",
       "      <th>Major_Vessels</th>\n",
       "      <th>Thalassemia_Level</th>\n",
       "      <th>Heart_Disease</th>\n",
       "      <th>Age_Group</th>\n",
       "    </tr>\n",
       "  </thead>\n",
       "  <tbody>\n",
       "    <tr>\n",
       "      <th>0</th>\n",
       "      <td>63</td>\n",
       "      <td>1</td>\n",
       "      <td>1</td>\n",
       "      <td>145</td>\n",
       "      <td>233</td>\n",
       "      <td>1</td>\n",
       "      <td>2</td>\n",
       "      <td>150</td>\n",
       "      <td>0</td>\n",
       "      <td>2.3</td>\n",
       "      <td>0</td>\n",
       "      <td>0</td>\n",
       "      <td>0</td>\n",
       "      <td>Absense</td>\n",
       "      <td>1</td>\n",
       "    </tr>\n",
       "    <tr>\n",
       "      <th>1</th>\n",
       "      <td>67</td>\n",
       "      <td>1</td>\n",
       "      <td>3</td>\n",
       "      <td>160</td>\n",
       "      <td>286</td>\n",
       "      <td>0</td>\n",
       "      <td>2</td>\n",
       "      <td>108</td>\n",
       "      <td>1</td>\n",
       "      <td>1.5</td>\n",
       "      <td>1</td>\n",
       "      <td>3</td>\n",
       "      <td>1</td>\n",
       "      <td>Presence</td>\n",
       "      <td>1</td>\n",
       "    </tr>\n",
       "    <tr>\n",
       "      <th>2</th>\n",
       "      <td>67</td>\n",
       "      <td>1</td>\n",
       "      <td>3</td>\n",
       "      <td>120</td>\n",
       "      <td>229</td>\n",
       "      <td>0</td>\n",
       "      <td>2</td>\n",
       "      <td>129</td>\n",
       "      <td>1</td>\n",
       "      <td>2.6</td>\n",
       "      <td>1</td>\n",
       "      <td>2</td>\n",
       "      <td>2</td>\n",
       "      <td>Presence</td>\n",
       "      <td>1</td>\n",
       "    </tr>\n",
       "    <tr>\n",
       "      <th>3</th>\n",
       "      <td>37</td>\n",
       "      <td>1</td>\n",
       "      <td>0</td>\n",
       "      <td>130</td>\n",
       "      <td>250</td>\n",
       "      <td>0</td>\n",
       "      <td>0</td>\n",
       "      <td>187</td>\n",
       "      <td>0</td>\n",
       "      <td>3.5</td>\n",
       "      <td>0</td>\n",
       "      <td>0</td>\n",
       "      <td>1</td>\n",
       "      <td>Absense</td>\n",
       "      <td>0</td>\n",
       "    </tr>\n",
       "    <tr>\n",
       "      <th>4</th>\n",
       "      <td>41</td>\n",
       "      <td>0</td>\n",
       "      <td>2</td>\n",
       "      <td>130</td>\n",
       "      <td>204</td>\n",
       "      <td>0</td>\n",
       "      <td>2</td>\n",
       "      <td>172</td>\n",
       "      <td>0</td>\n",
       "      <td>1.4</td>\n",
       "      <td>2</td>\n",
       "      <td>0</td>\n",
       "      <td>1</td>\n",
       "      <td>Absense</td>\n",
       "      <td>0</td>\n",
       "    </tr>\n",
       "    <tr>\n",
       "      <th>5</th>\n",
       "      <td>56</td>\n",
       "      <td>1</td>\n",
       "      <td>2</td>\n",
       "      <td>120</td>\n",
       "      <td>236</td>\n",
       "      <td>0</td>\n",
       "      <td>0</td>\n",
       "      <td>178</td>\n",
       "      <td>0</td>\n",
       "      <td>0.8</td>\n",
       "      <td>2</td>\n",
       "      <td>0</td>\n",
       "      <td>1</td>\n",
       "      <td>Absense</td>\n",
       "      <td>0</td>\n",
       "    </tr>\n",
       "    <tr>\n",
       "      <th>6</th>\n",
       "      <td>62</td>\n",
       "      <td>0</td>\n",
       "      <td>3</td>\n",
       "      <td>140</td>\n",
       "      <td>268</td>\n",
       "      <td>0</td>\n",
       "      <td>2</td>\n",
       "      <td>160</td>\n",
       "      <td>0</td>\n",
       "      <td>3.6</td>\n",
       "      <td>0</td>\n",
       "      <td>2</td>\n",
       "      <td>1</td>\n",
       "      <td>Presence</td>\n",
       "      <td>1</td>\n",
       "    </tr>\n",
       "    <tr>\n",
       "      <th>7</th>\n",
       "      <td>57</td>\n",
       "      <td>0</td>\n",
       "      <td>3</td>\n",
       "      <td>120</td>\n",
       "      <td>354</td>\n",
       "      <td>0</td>\n",
       "      <td>0</td>\n",
       "      <td>163</td>\n",
       "      <td>1</td>\n",
       "      <td>0.6</td>\n",
       "      <td>2</td>\n",
       "      <td>0</td>\n",
       "      <td>1</td>\n",
       "      <td>Absense</td>\n",
       "      <td>0</td>\n",
       "    </tr>\n",
       "    <tr>\n",
       "      <th>8</th>\n",
       "      <td>63</td>\n",
       "      <td>1</td>\n",
       "      <td>3</td>\n",
       "      <td>130</td>\n",
       "      <td>254</td>\n",
       "      <td>0</td>\n",
       "      <td>2</td>\n",
       "      <td>147</td>\n",
       "      <td>0</td>\n",
       "      <td>1.4</td>\n",
       "      <td>1</td>\n",
       "      <td>1</td>\n",
       "      <td>2</td>\n",
       "      <td>Presence</td>\n",
       "      <td>1</td>\n",
       "    </tr>\n",
       "    <tr>\n",
       "      <th>9</th>\n",
       "      <td>53</td>\n",
       "      <td>1</td>\n",
       "      <td>3</td>\n",
       "      <td>140</td>\n",
       "      <td>203</td>\n",
       "      <td>1</td>\n",
       "      <td>2</td>\n",
       "      <td>155</td>\n",
       "      <td>1</td>\n",
       "      <td>3.1</td>\n",
       "      <td>0</td>\n",
       "      <td>0</td>\n",
       "      <td>2</td>\n",
       "      <td>Presence</td>\n",
       "      <td>0</td>\n",
       "    </tr>\n",
       "  </tbody>\n",
       "</table>\n",
       "</div>"
      ],
      "text/plain": [
       "   Age  Sex  Chest_Pain_Level  Resting_Blood_Pressure  Cholestrol  \\\n",
       "0   63    1                 1                     145         233   \n",
       "1   67    1                 3                     160         286   \n",
       "2   67    1                 3                     120         229   \n",
       "3   37    1                 0                     130         250   \n",
       "4   41    0                 2                     130         204   \n",
       "5   56    1                 2                     120         236   \n",
       "6   62    0                 3                     140         268   \n",
       "7   57    0                 3                     120         354   \n",
       "8   63    1                 3                     130         254   \n",
       "9   53    1                 3                     140         203   \n",
       "\n",
       "   Fasting_Blood_Sugar  Resting_ECG  Max_Heart_Rate  Exercise_Induced_Angina  \\\n",
       "0                    1            2             150                        0   \n",
       "1                    0            2             108                        1   \n",
       "2                    0            2             129                        1   \n",
       "3                    0            0             187                        0   \n",
       "4                    0            2             172                        0   \n",
       "5                    0            0             178                        0   \n",
       "6                    0            2             160                        0   \n",
       "7                    0            0             163                        1   \n",
       "8                    0            2             147                        0   \n",
       "9                    1            2             155                        1   \n",
       "\n",
       "   Depression  SlopeC  Major_Vessels  Thalassemia_Level Heart_Disease  \\\n",
       "0         2.3       0              0                  0       Absense   \n",
       "1         1.5       1              3                  1      Presence   \n",
       "2         2.6       1              2                  2      Presence   \n",
       "3         3.5       0              0                  1       Absense   \n",
       "4         1.4       2              0                  1       Absense   \n",
       "5         0.8       2              0                  1       Absense   \n",
       "6         3.6       0              2                  1      Presence   \n",
       "7         0.6       2              0                  1       Absense   \n",
       "8         1.4       1              1                  2      Presence   \n",
       "9         3.1       0              0                  2      Presence   \n",
       "\n",
       "   Age_Group  \n",
       "0          1  \n",
       "1          1  \n",
       "2          1  \n",
       "3          0  \n",
       "4          0  \n",
       "5          0  \n",
       "6          1  \n",
       "7          0  \n",
       "8          1  \n",
       "9          0  "
      ]
     },
     "execution_count": 10,
     "metadata": {},
     "output_type": "execute_result"
    }
   ],
   "source": [
    "df. head(10)"
   ]
  },
  {
   "cell_type": "code",
   "execution_count": 11,
   "id": "53697208",
   "metadata": {},
   "outputs": [
    {
     "data": {
      "text/html": [
       "<div>\n",
       "<style scoped>\n",
       "    .dataframe tbody tr th:only-of-type {\n",
       "        vertical-align: middle;\n",
       "    }\n",
       "\n",
       "    .dataframe tbody tr th {\n",
       "        vertical-align: top;\n",
       "    }\n",
       "\n",
       "    .dataframe thead th {\n",
       "        text-align: right;\n",
       "    }\n",
       "</style>\n",
       "<table border=\"1\" class=\"dataframe\">\n",
       "  <thead>\n",
       "    <tr style=\"text-align: right;\">\n",
       "      <th></th>\n",
       "      <th>Age</th>\n",
       "      <th>Sex</th>\n",
       "      <th>Chest_Pain_Level</th>\n",
       "      <th>Resting_Blood_Pressure</th>\n",
       "      <th>Cholestrol</th>\n",
       "      <th>Fasting_Blood_Sugar</th>\n",
       "      <th>Resting_ECG</th>\n",
       "      <th>Max_Heart_Rate</th>\n",
       "      <th>Exercise_Induced_Angina</th>\n",
       "      <th>Depression</th>\n",
       "      <th>SlopeC</th>\n",
       "      <th>Major_Vessels</th>\n",
       "      <th>Thalassemia_Level</th>\n",
       "      <th>Age_Group</th>\n",
       "    </tr>\n",
       "  </thead>\n",
       "  <tbody>\n",
       "    <tr>\n",
       "      <th>count</th>\n",
       "      <td>297.000000</td>\n",
       "      <td>297.000000</td>\n",
       "      <td>297.000000</td>\n",
       "      <td>297.000000</td>\n",
       "      <td>297.000000</td>\n",
       "      <td>297.000000</td>\n",
       "      <td>297.000000</td>\n",
       "      <td>297.000000</td>\n",
       "      <td>297.000000</td>\n",
       "      <td>297.000000</td>\n",
       "      <td>297.000000</td>\n",
       "      <td>297.000000</td>\n",
       "      <td>297.000000</td>\n",
       "      <td>297.000000</td>\n",
       "    </tr>\n",
       "    <tr>\n",
       "      <th>mean</th>\n",
       "      <td>54.542088</td>\n",
       "      <td>0.676768</td>\n",
       "      <td>1.841751</td>\n",
       "      <td>131.693603</td>\n",
       "      <td>247.350168</td>\n",
       "      <td>0.144781</td>\n",
       "      <td>0.996633</td>\n",
       "      <td>149.599327</td>\n",
       "      <td>0.326599</td>\n",
       "      <td>1.055556</td>\n",
       "      <td>1.397306</td>\n",
       "      <td>0.676768</td>\n",
       "      <td>1.326599</td>\n",
       "      <td>0.326599</td>\n",
       "    </tr>\n",
       "    <tr>\n",
       "      <th>std</th>\n",
       "      <td>9.049736</td>\n",
       "      <td>0.468500</td>\n",
       "      <td>1.286051</td>\n",
       "      <td>17.762806</td>\n",
       "      <td>51.997583</td>\n",
       "      <td>0.352474</td>\n",
       "      <td>0.994914</td>\n",
       "      <td>22.941562</td>\n",
       "      <td>0.469761</td>\n",
       "      <td>1.166123</td>\n",
       "      <td>0.618187</td>\n",
       "      <td>0.938965</td>\n",
       "      <td>0.585061</td>\n",
       "      <td>0.490862</td>\n",
       "    </tr>\n",
       "    <tr>\n",
       "      <th>min</th>\n",
       "      <td>29.000000</td>\n",
       "      <td>0.000000</td>\n",
       "      <td>0.000000</td>\n",
       "      <td>94.000000</td>\n",
       "      <td>126.000000</td>\n",
       "      <td>0.000000</td>\n",
       "      <td>0.000000</td>\n",
       "      <td>71.000000</td>\n",
       "      <td>0.000000</td>\n",
       "      <td>0.000000</td>\n",
       "      <td>0.000000</td>\n",
       "      <td>0.000000</td>\n",
       "      <td>0.000000</td>\n",
       "      <td>0.000000</td>\n",
       "    </tr>\n",
       "    <tr>\n",
       "      <th>25%</th>\n",
       "      <td>48.000000</td>\n",
       "      <td>0.000000</td>\n",
       "      <td>0.000000</td>\n",
       "      <td>120.000000</td>\n",
       "      <td>211.000000</td>\n",
       "      <td>0.000000</td>\n",
       "      <td>0.000000</td>\n",
       "      <td>133.000000</td>\n",
       "      <td>0.000000</td>\n",
       "      <td>0.000000</td>\n",
       "      <td>1.000000</td>\n",
       "      <td>0.000000</td>\n",
       "      <td>1.000000</td>\n",
       "      <td>0.000000</td>\n",
       "    </tr>\n",
       "    <tr>\n",
       "      <th>50%</th>\n",
       "      <td>56.000000</td>\n",
       "      <td>1.000000</td>\n",
       "      <td>2.000000</td>\n",
       "      <td>130.000000</td>\n",
       "      <td>243.000000</td>\n",
       "      <td>0.000000</td>\n",
       "      <td>1.000000</td>\n",
       "      <td>153.000000</td>\n",
       "      <td>0.000000</td>\n",
       "      <td>0.800000</td>\n",
       "      <td>1.000000</td>\n",
       "      <td>0.000000</td>\n",
       "      <td>1.000000</td>\n",
       "      <td>0.000000</td>\n",
       "    </tr>\n",
       "    <tr>\n",
       "      <th>75%</th>\n",
       "      <td>61.000000</td>\n",
       "      <td>1.000000</td>\n",
       "      <td>3.000000</td>\n",
       "      <td>140.000000</td>\n",
       "      <td>276.000000</td>\n",
       "      <td>0.000000</td>\n",
       "      <td>2.000000</td>\n",
       "      <td>166.000000</td>\n",
       "      <td>1.000000</td>\n",
       "      <td>1.600000</td>\n",
       "      <td>2.000000</td>\n",
       "      <td>1.000000</td>\n",
       "      <td>2.000000</td>\n",
       "      <td>1.000000</td>\n",
       "    </tr>\n",
       "    <tr>\n",
       "      <th>max</th>\n",
       "      <td>77.000000</td>\n",
       "      <td>1.000000</td>\n",
       "      <td>3.000000</td>\n",
       "      <td>200.000000</td>\n",
       "      <td>564.000000</td>\n",
       "      <td>1.000000</td>\n",
       "      <td>2.000000</td>\n",
       "      <td>202.000000</td>\n",
       "      <td>1.000000</td>\n",
       "      <td>6.200000</td>\n",
       "      <td>2.000000</td>\n",
       "      <td>3.000000</td>\n",
       "      <td>2.000000</td>\n",
       "      <td>2.000000</td>\n",
       "    </tr>\n",
       "  </tbody>\n",
       "</table>\n",
       "</div>"
      ],
      "text/plain": [
       "              Age         Sex  Chest_Pain_Level  Resting_Blood_Pressure  \\\n",
       "count  297.000000  297.000000        297.000000              297.000000   \n",
       "mean    54.542088    0.676768          1.841751              131.693603   \n",
       "std      9.049736    0.468500          1.286051               17.762806   \n",
       "min     29.000000    0.000000          0.000000               94.000000   \n",
       "25%     48.000000    0.000000          0.000000              120.000000   \n",
       "50%     56.000000    1.000000          2.000000              130.000000   \n",
       "75%     61.000000    1.000000          3.000000              140.000000   \n",
       "max     77.000000    1.000000          3.000000              200.000000   \n",
       "\n",
       "       Cholestrol  Fasting_Blood_Sugar  Resting_ECG  Max_Heart_Rate  \\\n",
       "count  297.000000           297.000000   297.000000      297.000000   \n",
       "mean   247.350168             0.144781     0.996633      149.599327   \n",
       "std     51.997583             0.352474     0.994914       22.941562   \n",
       "min    126.000000             0.000000     0.000000       71.000000   \n",
       "25%    211.000000             0.000000     0.000000      133.000000   \n",
       "50%    243.000000             0.000000     1.000000      153.000000   \n",
       "75%    276.000000             0.000000     2.000000      166.000000   \n",
       "max    564.000000             1.000000     2.000000      202.000000   \n",
       "\n",
       "       Exercise_Induced_Angina  Depression      SlopeC  Major_Vessels  \\\n",
       "count               297.000000  297.000000  297.000000     297.000000   \n",
       "mean                  0.326599    1.055556    1.397306       0.676768   \n",
       "std                   0.469761    1.166123    0.618187       0.938965   \n",
       "min                   0.000000    0.000000    0.000000       0.000000   \n",
       "25%                   0.000000    0.000000    1.000000       0.000000   \n",
       "50%                   0.000000    0.800000    1.000000       0.000000   \n",
       "75%                   1.000000    1.600000    2.000000       1.000000   \n",
       "max                   1.000000    6.200000    2.000000       3.000000   \n",
       "\n",
       "       Thalassemia_Level   Age_Group  \n",
       "count         297.000000  297.000000  \n",
       "mean            1.326599    0.326599  \n",
       "std             0.585061    0.490862  \n",
       "min             0.000000    0.000000  \n",
       "25%             1.000000    0.000000  \n",
       "50%             1.000000    0.000000  \n",
       "75%             2.000000    1.000000  \n",
       "max             2.000000    2.000000  "
      ]
     },
     "execution_count": 11,
     "metadata": {},
     "output_type": "execute_result"
    }
   ],
   "source": [
    "df. describe()"
   ]
  },
  {
   "cell_type": "code",
   "execution_count": 47,
   "id": "9354a2cc",
   "metadata": {},
   "outputs": [
    {
     "data": {
      "image/png": "[encoded data removed]",
      "text/plain": [
       "<Figure size 800x600 with 1 Axes>"
      ]
     },
     "metadata": {},
     "output_type": "display_data"
    }
   ],
   "source": [
    "df.Fasting_Blood_Sugar.value_counts().plot(kind=\"pie\", autopct=\"%1.0f%%\", title=\"Fasting Blood Sugar Pie Chart\", legend=True, figsize=(8,6))\n",
    "plt.show()"
   ]
  },
  {
   "cell_type": "code",
   "execution_count": 48,
   "id": "5147d2e9",
   "metadata": {},
   "outputs": [
    {
     "data": {
      "image/png": "[encoded data removed]",
      "text/plain": [
       "<Figure size 800x600 with 1 Axes>"
      ]
     },
     "metadata": {},
     "output_type": "display_data"
    }
   ],
   "source": [
    "df.Age_Group.value_counts().plot(kind=\"pie\", autopct=\"%1.0f%%\", title=\"Fasting Blood Sugar Pie Chart\", legend=True, figsize=(8,6))\n",
    "plt.show()"
   ]
  },
  {
   "cell_type": "code",
   "execution_count": 49,
   "id": "f047c571",
   "metadata": {},
   "outputs": [
    {
     "data": {
      "image/png": "[encoded data removed]",
      "text/plain": [
       "<Figure size 1600x900 with 2 Axes>"
      ]
     },
     "metadata": {},
     "output_type": "display_data"
    }
   ],
   "source": [
    "#Heatmap Creation using Seaborn\n",
    "plt.figure(figsize=(16,9))\n",
    "sns.heatmap(df.corr(), annot=True, linewidth=3)\n",
    "plt.show()"
   ]
  },
  {
   "cell_type": "code",
   "execution_count": 12,
   "id": "62b20feb",
   "metadata": {},
   "outputs": [
    {
     "data": {
      "text/html": [
       "<div>\n",
       "<style scoped>\n",
       "    .dataframe tbody tr th:only-of-type {\n",
       "        vertical-align: middle;\n",
       "    }\n",
       "\n",
       "    .dataframe tbody tr th {\n",
       "        vertical-align: top;\n",
       "    }\n",
       "\n",
       "    .dataframe thead th {\n",
       "        text-align: right;\n",
       "    }\n",
       "</style>\n",
       "<table border=\"1\" class=\"dataframe\">\n",
       "  <thead>\n",
       "    <tr style=\"text-align: right;\">\n",
       "      <th></th>\n",
       "      <th>Age</th>\n",
       "      <th>Sex</th>\n",
       "      <th>Chest_Pain_Level</th>\n",
       "      <th>Resting_Blood_Pressure</th>\n",
       "      <th>Cholestrol</th>\n",
       "      <th>Fasting_Blood_Sugar</th>\n",
       "      <th>Resting_ECG</th>\n",
       "      <th>Max_Heart_Rate</th>\n",
       "      <th>Exercise_Induced_Angina</th>\n",
       "      <th>Depression</th>\n",
       "      <th>SlopeC</th>\n",
       "      <th>Major_Vessels</th>\n",
       "      <th>Thalassemia_Level</th>\n",
       "      <th>Heart_Disease</th>\n",
       "      <th>Age_Group</th>\n",
       "    </tr>\n",
       "  </thead>\n",
       "  <tbody>\n",
       "    <tr>\n",
       "      <th>0</th>\n",
       "      <td>63</td>\n",
       "      <td>1</td>\n",
       "      <td>1</td>\n",
       "      <td>145</td>\n",
       "      <td>233</td>\n",
       "      <td>1</td>\n",
       "      <td>2</td>\n",
       "      <td>150</td>\n",
       "      <td>0</td>\n",
       "      <td>2.3</td>\n",
       "      <td>0</td>\n",
       "      <td>0</td>\n",
       "      <td>0</td>\n",
       "      <td>Absense</td>\n",
       "      <td>1</td>\n",
       "    </tr>\n",
       "    <tr>\n",
       "      <th>1</th>\n",
       "      <td>67</td>\n",
       "      <td>1</td>\n",
       "      <td>3</td>\n",
       "      <td>160</td>\n",
       "      <td>286</td>\n",
       "      <td>0</td>\n",
       "      <td>2</td>\n",
       "      <td>108</td>\n",
       "      <td>1</td>\n",
       "      <td>1.5</td>\n",
       "      <td>1</td>\n",
       "      <td>3</td>\n",
       "      <td>1</td>\n",
       "      <td>Presence</td>\n",
       "      <td>1</td>\n",
       "    </tr>\n",
       "    <tr>\n",
       "      <th>2</th>\n",
       "      <td>67</td>\n",
       "      <td>1</td>\n",
       "      <td>3</td>\n",
       "      <td>120</td>\n",
       "      <td>229</td>\n",
       "      <td>0</td>\n",
       "      <td>2</td>\n",
       "      <td>129</td>\n",
       "      <td>1</td>\n",
       "      <td>2.6</td>\n",
       "      <td>1</td>\n",
       "      <td>2</td>\n",
       "      <td>2</td>\n",
       "      <td>Presence</td>\n",
       "      <td>1</td>\n",
       "    </tr>\n",
       "    <tr>\n",
       "      <th>3</th>\n",
       "      <td>37</td>\n",
       "      <td>1</td>\n",
       "      <td>0</td>\n",
       "      <td>130</td>\n",
       "      <td>250</td>\n",
       "      <td>0</td>\n",
       "      <td>0</td>\n",
       "      <td>187</td>\n",
       "      <td>0</td>\n",
       "      <td>3.5</td>\n",
       "      <td>0</td>\n",
       "      <td>0</td>\n",
       "      <td>1</td>\n",
       "      <td>Absense</td>\n",
       "      <td>0</td>\n",
       "    </tr>\n",
       "    <tr>\n",
       "      <th>4</th>\n",
       "      <td>41</td>\n",
       "      <td>0</td>\n",
       "      <td>2</td>\n",
       "      <td>130</td>\n",
       "      <td>204</td>\n",
       "      <td>0</td>\n",
       "      <td>2</td>\n",
       "      <td>172</td>\n",
       "      <td>0</td>\n",
       "      <td>1.4</td>\n",
       "      <td>2</td>\n",
       "      <td>0</td>\n",
       "      <td>1</td>\n",
       "      <td>Absense</td>\n",
       "      <td>0</td>\n",
       "    </tr>\n",
       "  </tbody>\n",
       "</table>\n",
       "</div>"
      ],
      "text/plain": [
       "   Age  Sex  Chest_Pain_Level  Resting_Blood_Pressure  Cholestrol  \\\n",
       "0   63    1                 1                     145         233   \n",
       "1   67    1                 3                     160         286   \n",
       "2   67    1                 3                     120         229   \n",
       "3   37    1                 0                     130         250   \n",
       "4   41    0                 2                     130         204   \n",
       "\n",
       "   Fasting_Blood_Sugar  Resting_ECG  Max_Heart_Rate  Exercise_Induced_Angina  \\\n",
       "0                    1            2             150                        0   \n",
       "1                    0            2             108                        1   \n",
       "2                    0            2             129                        1   \n",
       "3                    0            0             187                        0   \n",
       "4                    0            2             172                        0   \n",
       "\n",
       "   Depression  SlopeC  Major_Vessels  Thalassemia_Level Heart_Disease  \\\n",
       "0         2.3       0              0                  0       Absense   \n",
       "1         1.5       1              3                  1      Presence   \n",
       "2         2.6       1              2                  2      Presence   \n",
       "3         3.5       0              0                  1       Absense   \n",
       "4         1.4       2              0                  1       Absense   \n",
       "\n",
       "   Age_Group  \n",
       "0          1  \n",
       "1          1  \n",
       "2          1  \n",
       "3          0  \n",
       "4          0  "
      ]
     },
     "execution_count": 12,
     "metadata": {},
     "output_type": "execute_result"
    }
   ],
   "source": [
    "df. head()"
   ]
  },
  {
   "cell_type": "code",
   "execution_count": 13,
   "id": "98ddd0e0",
   "metadata": {},
   "outputs": [
    {
     "data": {
      "text/plain": [
       "(297, 15)"
      ]
     },
     "execution_count": 13,
     "metadata": {},
     "output_type": "execute_result"
    }
   ],
   "source": [
    "df. shape"
   ]
  },
  {
   "cell_type": "code",
   "execution_count": 86,
   "id": "fda98796",
   "metadata": {},
   "outputs": [],
   "source": [
    "df = df. iloc[:,[0,1,2,3,4,5,6,7,8,9,10,11,12,14,13]]"
   ]
  },
  {
   "cell_type": "code",
   "execution_count": 87,
   "id": "5851e131",
   "metadata": {},
   "outputs": [
    {
     "data": {
      "text/html": [
       "<div>\n",
       "<style scoped>\n",
       "    .dataframe tbody tr th:only-of-type {\n",
       "        vertical-align: middle;\n",
       "    }\n",
       "\n",
       "    .dataframe tbody tr th {\n",
       "        vertical-align: top;\n",
       "    }\n",
       "\n",
       "    .dataframe thead th {\n",
       "        text-align: right;\n",
       "    }\n",
       "</style>\n",
       "<table border=\"1\" class=\"dataframe\">\n",
       "  <thead>\n",
       "    <tr style=\"text-align: right;\">\n",
       "      <th></th>\n",
       "      <th>Age</th>\n",
       "      <th>Sex</th>\n",
       "      <th>Chest_Pain_Level</th>\n",
       "      <th>Resting_Blood_Pressure</th>\n",
       "      <th>Cholestrol</th>\n",
       "      <th>Fasting_Blood_Sugar</th>\n",
       "      <th>Resting_ECG</th>\n",
       "      <th>Max_Heart_Rate</th>\n",
       "      <th>Exercise_Induced_Angina</th>\n",
       "      <th>Depression</th>\n",
       "      <th>SlopeC</th>\n",
       "      <th>Major_Vessels</th>\n",
       "      <th>Thalassemia_Level</th>\n",
       "      <th>Age_Group</th>\n",
       "      <th>Heart_Disease</th>\n",
       "    </tr>\n",
       "  </thead>\n",
       "  <tbody>\n",
       "    <tr>\n",
       "      <th>0</th>\n",
       "      <td>63</td>\n",
       "      <td>1</td>\n",
       "      <td>1</td>\n",
       "      <td>145</td>\n",
       "      <td>233</td>\n",
       "      <td>1</td>\n",
       "      <td>2</td>\n",
       "      <td>150</td>\n",
       "      <td>0</td>\n",
       "      <td>2.3</td>\n",
       "      <td>0</td>\n",
       "      <td>0</td>\n",
       "      <td>0</td>\n",
       "      <td>1</td>\n",
       "      <td>Absense</td>\n",
       "    </tr>\n",
       "    <tr>\n",
       "      <th>1</th>\n",
       "      <td>67</td>\n",
       "      <td>1</td>\n",
       "      <td>3</td>\n",
       "      <td>160</td>\n",
       "      <td>286</td>\n",
       "      <td>0</td>\n",
       "      <td>2</td>\n",
       "      <td>108</td>\n",
       "      <td>1</td>\n",
       "      <td>1.5</td>\n",
       "      <td>1</td>\n",
       "      <td>3</td>\n",
       "      <td>1</td>\n",
       "      <td>1</td>\n",
       "      <td>Presence</td>\n",
       "    </tr>\n",
       "    <tr>\n",
       "      <th>2</th>\n",
       "      <td>67</td>\n",
       "      <td>1</td>\n",
       "      <td>3</td>\n",
       "      <td>120</td>\n",
       "      <td>229</td>\n",
       "      <td>0</td>\n",
       "      <td>2</td>\n",
       "      <td>129</td>\n",
       "      <td>1</td>\n",
       "      <td>2.6</td>\n",
       "      <td>1</td>\n",
       "      <td>2</td>\n",
       "      <td>2</td>\n",
       "      <td>1</td>\n",
       "      <td>Presence</td>\n",
       "    </tr>\n",
       "    <tr>\n",
       "      <th>3</th>\n",
       "      <td>37</td>\n",
       "      <td>1</td>\n",
       "      <td>0</td>\n",
       "      <td>130</td>\n",
       "      <td>250</td>\n",
       "      <td>0</td>\n",
       "      <td>0</td>\n",
       "      <td>187</td>\n",
       "      <td>0</td>\n",
       "      <td>3.5</td>\n",
       "      <td>0</td>\n",
       "      <td>0</td>\n",
       "      <td>1</td>\n",
       "      <td>0</td>\n",
       "      <td>Absense</td>\n",
       "    </tr>\n",
       "    <tr>\n",
       "      <th>4</th>\n",
       "      <td>41</td>\n",
       "      <td>0</td>\n",
       "      <td>2</td>\n",
       "      <td>130</td>\n",
       "      <td>204</td>\n",
       "      <td>0</td>\n",
       "      <td>2</td>\n",
       "      <td>172</td>\n",
       "      <td>0</td>\n",
       "      <td>1.4</td>\n",
       "      <td>2</td>\n",
       "      <td>0</td>\n",
       "      <td>1</td>\n",
       "      <td>0</td>\n",
       "      <td>Absense</td>\n",
       "    </tr>\n",
       "  </tbody>\n",
       "</table>\n",
       "</div>"
      ],
      "text/plain": [
       "   Age  Sex  Chest_Pain_Level  Resting_Blood_Pressure  Cholestrol  \\\n",
       "0   63    1                 1                     145         233   \n",
       "1   67    1                 3                     160         286   \n",
       "2   67    1                 3                     120         229   \n",
       "3   37    1                 0                     130         250   \n",
       "4   41    0                 2                     130         204   \n",
       "\n",
       "   Fasting_Blood_Sugar  Resting_ECG  Max_Heart_Rate  Exercise_Induced_Angina  \\\n",
       "0                    1            2             150                        0   \n",
       "1                    0            2             108                        1   \n",
       "2                    0            2             129                        1   \n",
       "3                    0            0             187                        0   \n",
       "4                    0            2             172                        0   \n",
       "\n",
       "   Depression  SlopeC  Major_Vessels  Thalassemia_Level  Age_Group  \\\n",
       "0         2.3       0              0                  0          1   \n",
       "1         1.5       1              3                  1          1   \n",
       "2         2.6       1              2                  2          1   \n",
       "3         3.5       0              0                  1          0   \n",
       "4         1.4       2              0                  1          0   \n",
       "\n",
       "  Heart_Disease  \n",
       "0       Absense  \n",
       "1      Presence  \n",
       "2      Presence  \n",
       "3       Absense  \n",
       "4       Absense  "
      ]
     },
     "execution_count": 87,
     "metadata": {},
     "output_type": "execute_result"
    }
   ],
   "source": [
    "df. head()"
   ]
  },
  {
   "cell_type": "code",
   "execution_count": 27,
   "id": "cc635d7c",
   "metadata": {},
   "outputs": [],
   "source": [
    "# Input and Output Split\n",
    "predictors = df. drop([\"Heart_Disease\"], axis = 1)"
   ]
  },
  {
   "cell_type": "code",
   "execution_count": 28,
   "id": "f229604c",
   "metadata": {},
   "outputs": [
    {
     "data": {
      "text/html": [
       "<div>\n",
       "<style scoped>\n",
       "    .dataframe tbody tr th:only-of-type {\n",
       "        vertical-align: middle;\n",
       "    }\n",
       "\n",
       "    .dataframe tbody tr th {\n",
       "        vertical-align: top;\n",
       "    }\n",
       "\n",
       "    .dataframe thead th {\n",
       "        text-align: right;\n",
       "    }\n",
       "</style>\n",
       "<table border=\"1\" class=\"dataframe\">\n",
       "  <thead>\n",
       "    <tr style=\"text-align: right;\">\n",
       "      <th></th>\n",
       "      <th>Age</th>\n",
       "      <th>Sex</th>\n",
       "      <th>Chest_Pain_Level</th>\n",
       "      <th>Resting_Blood_Pressure</th>\n",
       "      <th>Cholestrol</th>\n",
       "      <th>Fasting_Blood_Sugar</th>\n",
       "      <th>Resting_ECG</th>\n",
       "      <th>Max_Heart_Rate</th>\n",
       "      <th>Exercise_Induced_Angina</th>\n",
       "      <th>Depression</th>\n",
       "      <th>SlopeC</th>\n",
       "      <th>Major_Vessels</th>\n",
       "      <th>Thalassemia_Level</th>\n",
       "      <th>Age_Group</th>\n",
       "    </tr>\n",
       "  </thead>\n",
       "  <tbody>\n",
       "    <tr>\n",
       "      <th>0</th>\n",
       "      <td>63</td>\n",
       "      <td>1</td>\n",
       "      <td>1</td>\n",
       "      <td>145</td>\n",
       "      <td>233</td>\n",
       "      <td>1</td>\n",
       "      <td>2</td>\n",
       "      <td>150</td>\n",
       "      <td>0</td>\n",
       "      <td>2.3</td>\n",
       "      <td>0</td>\n",
       "      <td>0</td>\n",
       "      <td>0</td>\n",
       "      <td>1</td>\n",
       "    </tr>\n",
       "    <tr>\n",
       "      <th>1</th>\n",
       "      <td>67</td>\n",
       "      <td>1</td>\n",
       "      <td>3</td>\n",
       "      <td>160</td>\n",
       "      <td>286</td>\n",
       "      <td>0</td>\n",
       "      <td>2</td>\n",
       "      <td>108</td>\n",
       "      <td>1</td>\n",
       "      <td>1.5</td>\n",
       "      <td>1</td>\n",
       "      <td>3</td>\n",
       "      <td>1</td>\n",
       "      <td>1</td>\n",
       "    </tr>\n",
       "    <tr>\n",
       "      <th>2</th>\n",
       "      <td>67</td>\n",
       "      <td>1</td>\n",
       "      <td>3</td>\n",
       "      <td>120</td>\n",
       "      <td>229</td>\n",
       "      <td>0</td>\n",
       "      <td>2</td>\n",
       "      <td>129</td>\n",
       "      <td>1</td>\n",
       "      <td>2.6</td>\n",
       "      <td>1</td>\n",
       "      <td>2</td>\n",
       "      <td>2</td>\n",
       "      <td>1</td>\n",
       "    </tr>\n",
       "    <tr>\n",
       "      <th>3</th>\n",
       "      <td>37</td>\n",
       "      <td>1</td>\n",
       "      <td>0</td>\n",
       "      <td>130</td>\n",
       "      <td>250</td>\n",
       "      <td>0</td>\n",
       "      <td>0</td>\n",
       "      <td>187</td>\n",
       "      <td>0</td>\n",
       "      <td>3.5</td>\n",
       "      <td>0</td>\n",
       "      <td>0</td>\n",
       "      <td>1</td>\n",
       "      <td>0</td>\n",
       "    </tr>\n",
       "    <tr>\n",
       "      <th>4</th>\n",
       "      <td>41</td>\n",
       "      <td>0</td>\n",
       "      <td>2</td>\n",
       "      <td>130</td>\n",
       "      <td>204</td>\n",
       "      <td>0</td>\n",
       "      <td>2</td>\n",
       "      <td>172</td>\n",
       "      <td>0</td>\n",
       "      <td>1.4</td>\n",
       "      <td>2</td>\n",
       "      <td>0</td>\n",
       "      <td>1</td>\n",
       "      <td>0</td>\n",
       "    </tr>\n",
       "  </tbody>\n",
       "</table>\n",
       "</div>"
      ],
      "text/plain": [
       "   Age  Sex  Chest_Pain_Level  Resting_Blood_Pressure  Cholestrol  \\\n",
       "0   63    1                 1                     145         233   \n",
       "1   67    1                 3                     160         286   \n",
       "2   67    1                 3                     120         229   \n",
       "3   37    1                 0                     130         250   \n",
       "4   41    0                 2                     130         204   \n",
       "\n",
       "   Fasting_Blood_Sugar  Resting_ECG  Max_Heart_Rate  Exercise_Induced_Angina  \\\n",
       "0                    1            2             150                        0   \n",
       "1                    0            2             108                        1   \n",
       "2                    0            2             129                        1   \n",
       "3                    0            0             187                        0   \n",
       "4                    0            2             172                        0   \n",
       "\n",
       "   Depression  SlopeC  Major_Vessels  Thalassemia_Level  Age_Group  \n",
       "0         2.3       0              0                  0          1  \n",
       "1         1.5       1              3                  1          1  \n",
       "2         2.6       1              2                  2          1  \n",
       "3         3.5       0              0                  1          0  \n",
       "4         1.4       2              0                  1          0  "
      ]
     },
     "execution_count": 28,
     "metadata": {},
     "output_type": "execute_result"
    }
   ],
   "source": [
    "predictors. head()"
   ]
  },
  {
   "cell_type": "code",
   "execution_count": 29,
   "id": "dbb35534",
   "metadata": {},
   "outputs": [],
   "source": [
    "target = df[\"Heart_Disease\"]"
   ]
  },
  {
   "cell_type": "code",
   "execution_count": 30,
   "id": "e7e5841b",
   "metadata": {},
   "outputs": [
    {
     "data": {
      "text/plain": [
       "0       Absense\n",
       "1      Presence\n",
       "2      Presence\n",
       "3       Absense\n",
       "4       Absense\n",
       "         ...   \n",
       "292    Presence\n",
       "293    Presence\n",
       "294    Presence\n",
       "295    Presence\n",
       "296    Presence\n",
       "Name: Heart_Disease, Length: 297, dtype: object"
      ]
     },
     "execution_count": 30,
     "metadata": {},
     "output_type": "execute_result"
    }
   ],
   "source": [
    "target"
   ]
  },
  {
   "cell_type": "code",
   "execution_count": 31,
   "id": "b79094e5",
   "metadata": {},
   "outputs": [],
   "source": [
    "# Splitting data into training and testing data set\n",
    "from sklearn.model_selection import train_test_split\n",
    "x_train, x_test, y_train, y_test = train_test_split(predictors, target, test_size = 0.25, random_state=0)"
   ]
  },
  {
   "cell_type": "code",
   "execution_count": 32,
   "id": "80079449",
   "metadata": {},
   "outputs": [
    {
     "data": {
      "text/plain": [
       "DecisionTreeClassifier(criterion='entropy')"
      ]
     },
     "execution_count": 32,
     "metadata": {},
     "output_type": "execute_result"
    }
   ],
   "source": [
    "from sklearn.tree import DecisionTreeClassifier as DT\n",
    "model = DT(criterion = 'entropy')\n",
    "model.fit(x_train, y_train)"
   ]
  },
  {
   "cell_type": "code",
   "execution_count": 33,
   "id": "7c16845a",
   "metadata": {},
   "outputs": [
    {
     "data": {
      "text/html": [
       "<div>\n",
       "<style scoped>\n",
       "    .dataframe tbody tr th:only-of-type {\n",
       "        vertical-align: middle;\n",
       "    }\n",
       "\n",
       "    .dataframe tbody tr th {\n",
       "        vertical-align: top;\n",
       "    }\n",
       "\n",
       "    .dataframe thead th {\n",
       "        text-align: right;\n",
       "    }\n",
       "</style>\n",
       "<table border=\"1\" class=\"dataframe\">\n",
       "  <thead>\n",
       "    <tr style=\"text-align: right;\">\n",
       "      <th>Predictions</th>\n",
       "      <th>Absense</th>\n",
       "      <th>Presence</th>\n",
       "    </tr>\n",
       "    <tr>\n",
       "      <th>Actual</th>\n",
       "      <th></th>\n",
       "      <th></th>\n",
       "    </tr>\n",
       "  </thead>\n",
       "  <tbody>\n",
       "    <tr>\n",
       "      <th>Absense</th>\n",
       "      <td>31</td>\n",
       "      <td>8</td>\n",
       "    </tr>\n",
       "    <tr>\n",
       "      <th>Presence</th>\n",
       "      <td>10</td>\n",
       "      <td>26</td>\n",
       "    </tr>\n",
       "  </tbody>\n",
       "</table>\n",
       "</div>"
      ],
      "text/plain": [
       "Predictions  Absense  Presence\n",
       "Actual                        \n",
       "Absense           31         8\n",
       "Presence          10        26"
      ]
     },
     "execution_count": 33,
     "metadata": {},
     "output_type": "execute_result"
    }
   ],
   "source": [
    "# Prediction on Test Data\n",
    "preds = model.predict(x_test)\n",
    "pd.crosstab(y_test, preds, rownames=['Actual'], colnames=['Predictions'])"
   ]
  },
  {
   "cell_type": "code",
   "execution_count": 35,
   "id": "98babfc1",
   "metadata": {},
   "outputs": [
    {
     "data": {
      "text/plain": [
       "0.76"
      ]
     },
     "execution_count": 35,
     "metadata": {},
     "output_type": "execute_result"
    }
   ],
   "source": [
    "# Test Data Accuracy \n",
    "from sklearn.metrics import accuracy_score, confusion_matrix\n",
    "accuracy_score(y_test, model.predict(x_test))"
   ]
  },
  {
   "cell_type": "code",
   "execution_count": 36,
   "id": "ff2fc734",
   "metadata": {},
   "outputs": [
    {
     "data": {
      "text/html": [
       "<div>\n",
       "<style scoped>\n",
       "    .dataframe tbody tr th:only-of-type {\n",
       "        vertical-align: middle;\n",
       "    }\n",
       "\n",
       "    .dataframe tbody tr th {\n",
       "        vertical-align: top;\n",
       "    }\n",
       "\n",
       "    .dataframe thead th {\n",
       "        text-align: right;\n",
       "    }\n",
       "</style>\n",
       "<table border=\"1\" class=\"dataframe\">\n",
       "  <thead>\n",
       "    <tr style=\"text-align: right;\">\n",
       "      <th>Predictions</th>\n",
       "      <th>Absense</th>\n",
       "      <th>Presence</th>\n",
       "    </tr>\n",
       "    <tr>\n",
       "      <th>Actual</th>\n",
       "      <th></th>\n",
       "      <th></th>\n",
       "    </tr>\n",
       "  </thead>\n",
       "  <tbody>\n",
       "    <tr>\n",
       "      <th>Absense</th>\n",
       "      <td>121</td>\n",
       "      <td>0</td>\n",
       "    </tr>\n",
       "    <tr>\n",
       "      <th>Presence</th>\n",
       "      <td>0</td>\n",
       "      <td>101</td>\n",
       "    </tr>\n",
       "  </tbody>\n",
       "</table>\n",
       "</div>"
      ],
      "text/plain": [
       "Predictions  Absense  Presence\n",
       "Actual                        \n",
       "Absense          121         0\n",
       "Presence           0       101"
      ]
     },
     "execution_count": 36,
     "metadata": {},
     "output_type": "execute_result"
    }
   ],
   "source": [
    "# Prediction on Train Data\n",
    "preds = model.predict(x_train)\n",
    "pd.crosstab(y_train, preds, rownames = ['Actual'], colnames = ['Predictions'])"
   ]
  },
  {
   "cell_type": "code",
   "execution_count": 37,
   "id": "52d2ec72",
   "metadata": {},
   "outputs": [
    {
     "data": {
      "text/plain": [
       "1.0"
      ]
     },
     "execution_count": 37,
     "metadata": {},
     "output_type": "execute_result"
    }
   ],
   "source": [
    "# Train Data Accuracy \n",
    "from sklearn.metrics import accuracy_score, confusion_matrix\n",
    "accuracy_score(y_train, model.predict(x_train))"
   ]
  },
  {
   "cell_type": "code",
   "execution_count": 38,
   "id": "bc524780",
   "metadata": {},
   "outputs": [],
   "source": [
    "from sklearn.ensemble import RandomForestClassifier"
   ]
  },
  {
   "cell_type": "code",
   "execution_count": 39,
   "id": "4a9a1739",
   "metadata": {},
   "outputs": [],
   "source": [
    "rf_clf = RandomForestClassifier(n_estimators=500, n_jobs=1, random_state=42)"
   ]
  },
  {
   "cell_type": "code",
   "execution_count": 40,
   "id": "d85c0702",
   "metadata": {},
   "outputs": [
    {
     "data": {
      "text/plain": [
       "RandomForestClassifier(n_estimators=500, n_jobs=1, random_state=42)"
      ]
     },
     "execution_count": 40,
     "metadata": {},
     "output_type": "execute_result"
    }
   ],
   "source": [
    "rf_clf.fit(x_train, y_train)"
   ]
  },
  {
   "cell_type": "code",
   "execution_count": 41,
   "id": "4fdab50d",
   "metadata": {},
   "outputs": [
    {
     "data": {
      "text/plain": [
       "0.76"
      ]
     },
     "execution_count": 41,
     "metadata": {},
     "output_type": "execute_result"
    }
   ],
   "source": [
    "# Test Data Accuracy \n",
    "from sklearn.metrics import accuracy_score, confusion_matrix\n",
    "confusion_matrix(y_test, rf_clf.predict(x_test))\n",
    "accuracy_score(y_test, rf_clf.predict(x_test))"
   ]
  },
  {
   "cell_type": "code",
   "execution_count": 42,
   "id": "fbd2a002",
   "metadata": {},
   "outputs": [
    {
     "data": {
      "text/plain": [
       "1.0"
      ]
     },
     "execution_count": 42,
     "metadata": {},
     "output_type": "execute_result"
    }
   ],
   "source": [
    "# Train Data Accuracy\n",
    "accuracy_score(y_train, rf_clf.predict(x_train))"
   ]
  },
  {
   "cell_type": "code",
   "execution_count": 61,
   "id": "fcc8dc12",
   "metadata": {},
   "outputs": [
    {
     "data": {
      "text/plain": [
       "RandomForestClassifier(max_depth=30, min_samples_split=40, n_estimators=400)"
      ]
     },
     "execution_count": 61,
     "metadata": {},
     "output_type": "execute_result"
    }
   ],
   "source": [
    "# Creating new model testing with new parameters\n",
    "forest_new = RandomForestClassifier(n_estimators=400,max_depth=30,min_samples_split=40,criterion='gini')  # n_estimators is the number of decision trees\n",
    "forest_new.fit(x_train, y_train)"
   ]
  },
  {
   "cell_type": "code",
   "execution_count": 62,
   "id": "c3dfa59d",
   "metadata": {},
   "outputs": [
    {
     "name": "stdout",
     "output_type": "stream",
     "text": [
      "Train accuracy: 0.8648648648648649\n",
      "Test accuracy: 0.8\n"
     ]
    }
   ],
   "source": [
    "print('Train accuracy: {}'.format(forest_new.score(x_train, y_train)))\n",
    "print('Test accuracy: {}'.format(forest_new.score(x_test, y_test)))"
   ]
  },
  {
   "cell_type": "code",
   "execution_count": 68,
   "id": "2a3e5263",
   "metadata": {},
   "outputs": [],
   "source": [
    "from sklearn.linear_model import LogisticRegression\n",
    "from sklearn.metrics import accuracy_score, classification_report"
   ]
  },
  {
   "cell_type": "code",
   "execution_count": 65,
   "id": "7b00c124",
   "metadata": {},
   "outputs": [
    {
     "name": "stderr",
     "output_type": "stream",
     "text": [
      "C:\\Users\\debna\\anaconda3\\lib\\site-packages\\sklearn\\linear_model\\_logistic.py:814: ConvergenceWarning: lbfgs failed to converge (status=1):\n",
      "STOP: TOTAL NO. of ITERATIONS REACHED LIMIT.\n",
      "\n",
      "Increase the number of iterations (max_iter) or scale the data as shown in:\n",
      "    https://scikit-learn.org/stable/modules/preprocessing.html\n",
      "Please also refer to the documentation for alternative solver options:\n",
      "    https://scikit-learn.org/stable/modules/linear_model.html#logistic-regression\n",
      "  n_iter_i = _check_optimize_result(\n"
     ]
    },
    {
     "data": {
      "text/plain": [
       "LogisticRegression()"
      ]
     },
     "execution_count": 65,
     "metadata": {},
     "output_type": "execute_result"
    }
   ],
   "source": [
    "lr = LogisticRegression()\n",
    "lr.fit(x_train, y_train)"
   ]
  },
  {
   "cell_type": "code",
   "execution_count": 66,
   "id": "92aa4349",
   "metadata": {},
   "outputs": [
    {
     "name": "stdout",
     "output_type": "stream",
     "text": [
      "Train accuracy: 0.8603603603603603\n",
      "Test accuracy: 0.8133333333333334\n"
     ]
    }
   ],
   "source": [
    "print('Train accuracy: {}'.format(lr.score(x_train, y_train)))\n",
    "print('Test accuracy: {}'.format(lr.score(x_test, y_test)))"
   ]
  },
  {
   "cell_type": "code",
   "execution_count": 69,
   "id": "082906e3",
   "metadata": {},
   "outputs": [
    {
     "name": "stdout",
     "output_type": "stream",
     "text": [
      "Accuracy: 0.8133333333333334\n",
      "              precision    recall  f1-score   support\n",
      "\n",
      "     Absense       0.76      0.95      0.84        39\n",
      "    Presence       0.92      0.67      0.77        36\n",
      "\n",
      "    accuracy                           0.81        75\n",
      "   macro avg       0.84      0.81      0.81        75\n",
      "weighted avg       0.84      0.81      0.81        75\n",
      "\n"
     ]
    }
   ],
   "source": [
    "y_test_pred = lr.predict(x_test)\n",
    "print(\"Accuracy:\" , accuracy_score(y_test, y_test_pred))\n",
    "print(classification_report(y_test, y_test_pred))"
   ]
  },
  {
   "cell_type": "code",
   "execution_count": 74,
   "id": "774c1e65",
   "metadata": {},
   "outputs": [],
   "source": [
    "from sklearn.ensemble import GradientBoostingClassifier"
   ]
  },
  {
   "cell_type": "code",
   "execution_count": 81,
   "id": "ab03c54a",
   "metadata": {},
   "outputs": [
    {
     "data": {
      "text/plain": [
       "GradientBoostingClassifier(n_estimators=35)"
      ]
     },
     "execution_count": 81,
     "metadata": {},
     "output_type": "execute_result"
    }
   ],
   "source": [
    "gbc = GradientBoostingClassifier(n_estimators=35)\n",
    "gbc.fit(x_train, y_train)"
   ]
  },
  {
   "cell_type": "code",
   "execution_count": 82,
   "id": "6ad58217",
   "metadata": {},
   "outputs": [
    {
     "name": "stdout",
     "output_type": "stream",
     "text": [
      "Train accuracy: 0.9594594594594594\n",
      "Test accuracy: 0.7866666666666666\n"
     ]
    }
   ],
   "source": [
    "print('Train accuracy: {}'.format(gbc.score(x_train, y_train)))\n",
    "print('Test accuracy: {}'.format(gbc.score(x_test, y_test)))"
   ]
  },
  {
   "cell_type": "code",
   "execution_count": 103,
   "id": "3d702403",
   "metadata": {},
   "outputs": [],
   "source": [
    "import pickle"
   ]
  },
  {
   "cell_type": "code",
   "execution_count": 105,
   "id": "5bd61803",
   "metadata": {},
   "outputs": [],
   "source": [
    "pickle . dump(forest_new, open(\"heart_disease_forest_new.pickle\", \"wb\"))"
   ]
  },
  {
   "cell_type": "code",
   "execution_count": null,
   "id": "9ea59d84",
   "metadata": {},
   "outputs": [],
   "source": []
  }
 ],
 "metadata": {
  "kernelspec": {
   "display_name": "Python 3 (ipykernel)",
   "language": "python",
   "name": "python3"
  },
  "language_info": {
   "codemirror_mode": {
    "name": "ipython",
    "version": 3
   },
   "file_extension": ".py",
   "mimetype": "text/x-python",
   "name": "python",
   "nbconvert_exporter": "python",
   "pygments_lexer": "ipython3",
   "version": "3.9.12"
  }
 },
 "nbformat": 4,
 "nbformat_minor": 5
}
